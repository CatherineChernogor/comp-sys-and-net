{
 "cells": [
  {
   "cell_type": "code",
   "execution_count": 6,
   "metadata": {
    "scrolled": true,
    "tags": []
   },
   "outputs": [],
   "source": [
    "import os \n",
    "\n",
    "with open('data2.txt') as file:\n",
    "\n",
    "    v_amount = file.readline()\n",
    "\n",
    "    edge_lst = [ edge.rstrip().split() for edge in file.readlines()]\n",
    "#print(v_amount, edge_lst)"
   ]
  },
  {
   "cell_type": "code",
   "execution_count": 7,
   "metadata": {
    "tags": []
   },
   "outputs": [],
   "source": [
    "new_e = []\n",
    "for e in edge_lst:\n",
    "    lst = []\n",
    "    for v in e:\n",
    "        lst.append(int(v))\n",
    "    new_e.append(lst)\n",
    "edge_lst = new_e"
   ]
  },
  {
   "cell_type": "code",
   "execution_count": 8,
   "metadata": {
    "tags": []
   },
   "outputs": [],
   "source": [
    "g= {i: set() for i in range(1,int(v_amount)+1)}\n",
    "\n",
    "for edge in edge_lst:\n",
    "    v0, v1 = edge[0], edge[1]\n",
    "    g.get(v0).add(v1)\n",
    "    g.get(v1).add(v0)"
   ]
  },
  {
   "cell_type": "code",
   "execution_count": 9,
   "metadata": {
    "tags": []
   },
   "outputs": [],
   "source": [
    "def dfs(graph, start, visited=None):\n",
    "    if visited is None:\n",
    "        visited = set()\n",
    "    visited.add(start)\n",
    "    for nxt in graph[start] - visited:\n",
    "        dfs(graph, nxt, visited)\n",
    "    return visited"
   ]
  },
  {
   "cell_type": "code",
   "execution_count": 10,
   "metadata": {
    "tags": []
   },
   "outputs": [],
   "source": [
    "def get_ind(lst, val):\n",
    "    for i in range(len(lst)):\n",
    "        if lst[i]==val:\n",
    "            return i"
   ]
  },
  {
   "cell_type": "code",
   "execution_count": 11,
   "metadata": {
    "tags": []
   },
   "outputs": [
    {
     "name": "stdout",
     "output_type": "stream",
     "text": [
      "46 links is required \n"
     ]
    }
   ],
   "source": [
    "not_visited = [ i for i in range(1, int(v_amount)+1)]\n",
    "components = 0\n",
    "\n",
    "while not not not_visited:\n",
    "    visited_v = list(dfs(g, not_visited[0]))\n",
    "    for v in visited_v:\n",
    "        index = get_ind(not_visited, v)\n",
    "        not_visited.pop(index)\n",
    "    components+=1\n",
    "print('%d links is required ' % (components-1))"
   ]
  },
  {
   "cell_type": "code",
   "execution_count": 71,
   "metadata": {},
   "outputs": [
    {
     "ename": "SyntaxError",
     "evalue": "invalid syntax (<ipython-input-71-d7f6106e15c7>, line 1)",
     "output_type": "error",
     "traceback": [
      "\u001b[1;36m  File \u001b[1;32m\"<ipython-input-71-d7f6106e15c7>\"\u001b[1;36m, line \u001b[1;32m1\u001b[0m\n\u001b[1;33m    ping - i 0.2 ya.ru > ping\u001b[0m\n\u001b[1;37m             ^\u001b[0m\n\u001b[1;31mSyntaxError\u001b[0m\u001b[1;31m:\u001b[0m invalid syntax\n"
     ]
    }
   ],
   "source": [
    "#ping - i 0.2 ya.ru > ping\n",
    "#look for gawk"
   ]
  }
 ],
 "metadata": {
  "kernelspec": {
   "display_name": "Python 3",
   "language": "python",
   "name": "python3"
  },
  "language_info": {
   "codemirror_mode": {
    "name": "ipython",
    "version": 3
   },
   "file_extension": ".py",
   "mimetype": "text/x-python",
   "name": "python",
   "nbconvert_exporter": "python",
   "pygments_lexer": "ipython3",
   "version": "3.8.5"
  }
 },
 "nbformat": 4,
 "nbformat_minor": 4
}
